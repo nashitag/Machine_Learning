{
 "cells": [
  {
   "cell_type": "markdown",
   "metadata": {},
   "source": [
    "## Load the data"
   ]
  },
  {
   "cell_type": "code",
   "execution_count": 113,
   "metadata": {},
   "outputs": [],
   "source": [
    "import pandas as pd\n",
    "import numpy as np\n",
    "\n",
    "inputs = pd.read_csv(r'/Users/nashitaabd/Documents/SUTD/T6/MachineLearning/HW1/data/3/hw1_ridge_x.dat')\n",
    "outputs = pd.read_csv(r'/Users/nashitaabd/Documents/SUTD/T6/MachineLearning/HW1/data/3/hw1_ridge_y.dat')\n"
   ]
  },
  {
   "cell_type": "code",
   "execution_count": 114,
   "metadata": {},
   "outputs": [],
   "source": [
    "vX = inputs[:10]\n",
    "tX = inputs[10:]"
   ]
  },
  {
   "cell_type": "code",
   "execution_count": 115,
   "metadata": {
    "collapsed": true
   },
   "outputs": [],
   "source": [
    "vY = outputs[:10]\n",
    "tY = outputs[10:]"
   ]
  },
  {
   "cell_type": "code",
   "execution_count": 116,
   "metadata": {},
   "outputs": [],
   "source": [
    "vX = vX.as_matrix(columns=vX.columns[0:])\n",
    "tX = tX.as_matrix(columns=tX.columns[0:])\n",
    "vY = vY.as_matrix(columns=vY.columns[0:])\n",
    "tY = tY.as_matrix(columns=tY.columns[0:])"
   ]
  },
  {
   "cell_type": "markdown",
   "metadata": {},
   "source": [
    "## Ridge Regression"
   ]
  },
  {
   "cell_type": "code",
   "execution_count": 117,
   "metadata": {
    "collapsed": true
   },
   "outputs": [],
   "source": [
    "def ridge_regression(tX, tY, l):\n",
    "    n = tX.shape[0]\n",
    "    I = np.identity(tX.shape[1])\n",
    "    \n",
    "    xtranspose = tX.transpose()\n",
    "    b = np.matmul(xtranspose,tX)\n",
    "    \n",
    "    a = (n*l*I)+(b)\n",
    "    ainv = np.linalg.inv(a)\n",
    "    \n",
    "    c = np.matmul(xtranspose,tY)\n",
    "    \n",
    "    w = np.matmul(ainv,c)\n",
    "    \n",
    "    return w"
   ]
  },
  {
   "cell_type": "markdown",
   "metadata": {},
   "source": [
    "###  (a) Write a function ridge regression(tX, tY, l) that takes the training features, training responses and regularizing parameter λ, and outputs the exact solution θ for ridge regres- sion. Report the resulting value of θ for λ = 0.15."
   ]
  },
  {
   "cell_type": "code",
   "execution_count": 118,
   "metadata": {},
   "outputs": [
    {
     "name": "stdout",
     "output_type": "stream",
     "text": [
      "theta after ridge regression: \n",
      "theta0 =  [-0.58700227]\n",
      "theta1 =  [ 1.1462863]\n",
      "theta2 =  [ 0.04540121]\n",
      "theta3 =  [-1.59338005]\n"
     ]
    }
   ],
   "source": [
    "w = ridge_regression(tX, tY, 0.15)\n",
    "print(\"theta after ridge regression: \")\n",
    "print(\"theta0 = \", w[0])\n",
    "print(\"theta1 = \", w[1])\n",
    "print(\"theta2 = \", w[2])\n",
    "print(\"theta3 = \", w[3])"
   ]
  },
  {
   "cell_type": "markdown",
   "metadata": {},
   "source": [
    "### (b) Use the following code to plot graphs of the validation loss and training loss as λ varies on logarithmic scale from λ = 10−5 to λ = 100. Write down the value of λ that minimizes the validation loss."
   ]
  },
  {
   "cell_type": "code",
   "execution_count": 119,
   "metadata": {},
   "outputs": [
    {
     "name": "stdout",
     "output_type": "stream",
     "text": [
      "Lowest Lambda is  -1.8\n"
     ]
    },
    {
     "data": {
      "image/png": "[encoded data removed]",
      "text/plain": [
       "<matplotlib.figure.Figure at 0x116695588>"
      ]
     },
     "metadata": {},
     "output_type": "display_data"
    }
   ],
   "source": [
    "import matplotlib . pyplot as plt\n",
    "\n",
    "tn = tX.shape[0] \n",
    "vn = vX.shape[0]\n",
    "tloss = []\n",
    "vloss = []\n",
    "index = -np.arange(0,5,0.1)\n",
    "for i in index :\n",
    "    w = ridge_regression(tX,tY,10**i)\n",
    "    tloss = tloss+[np.sum((np.dot(tX,w)-tY)**2)/tn/2] \n",
    "    vloss = vloss+[np.sum((np.dot(vX,w)-vY)**2)/vn/2]\n",
    "plt.plot(index,np.log(tloss),'r') \n",
    "plt.plot(index,np.log(vloss),'b')\n",
    "plt.ylim(-6, -3)\n",
    "\n",
    "print(\"Lowest Lambda is \", index[vloss.index(min(vloss))])"
   ]
  },
  {
   "cell_type": "code",
   "execution_count": null,
   "metadata": {
    "collapsed": true
   },
   "outputs": [],
   "source": []
  }
 ],
 "metadata": {
  "kernelspec": {
   "display_name": "Python 3",
   "language": "python",
   "name": "python3"
  },
  "language_info": {
   "codemirror_mode": {
    "name": "ipython",
    "version": 3
   },
   "file_extension": ".py",
   "mimetype": "text/x-python",
   "name": "python",
   "nbconvert_exporter": "python",
   "pygments_lexer": "ipython3",
   "version": "3.7.4"
  }
 },
 "nbformat": 4,
 "nbformat_minor": 2
}

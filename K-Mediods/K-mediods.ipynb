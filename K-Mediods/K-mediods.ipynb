{
 "cells": [
  {
   "cell_type": "markdown",
   "metadata": {},
   "source": [
    "# K-Mediods"
   ]
  },
  {
   "cell_type": "markdown",
   "metadata": {},
   "source": [
    "## Get Data"
   ]
  },
  {
   "cell_type": "code",
   "execution_count": 1,
   "metadata": {},
   "outputs": [],
   "source": [
    "from sklearn.datasets.samples_generator import make_blobs\n",
    "from matplotlib import pyplot\n",
    "from pandas import DataFrame\n",
    "\n",
    "pyplot.rcParams[\"figure.figsize\"] = (10,8)\n",
    "\n",
    "\n",
    "# generate 2d classification dataset\n",
    "X, y = make_blobs(n_samples=5000, centers=4, n_features=2, random_state=3)\n",
    "\n",
    "# X = X.astype(int)\n",
    "\n",
    "\n",
    "# scatter plot, dots colored by class value\n",
    "df = DataFrame(dict(x=X[:,0], y=X[:,1], label=y))\n",
    "colors = {0:'red', 1:'blue', 2:'green', 3:'yellow'}\n",
    "fig, ax = pyplot.subplots()\n",
    "grouped = df.groupby('label')\n",
    "for key, group in grouped:\n",
    "    group.plot(ax=ax, kind='scatter', x='x', y='y', label=key, color=colors[key])\n",
    "# pyplot.show()\n"
   ]
  },
  {
   "cell_type": "code",
   "execution_count": 2,
   "metadata": {},
   "outputs": [
    {
     "data": {
      "text/plain": [
       "(array([[-4.38934207, -0.17524535],\n",
       "        [-0.84036626,  2.79302488],\n",
       "        [ 0.01161468,  3.81071366],\n",
       "        ...,\n",
       "        [-3.85415566,  1.19598626],\n",
       "        [ 7.34249243,  6.63386591],\n",
       "        [ 3.46301433,  4.32411782]]), array([1, 0, 0, ..., 1, 2, 0]))"
      ]
     },
     "execution_count": 2,
     "metadata": {},
     "output_type": "execute_result"
    }
   ],
   "source": [
    "X, y"
   ]
  },
  {
   "cell_type": "markdown",
   "metadata": {},
   "source": [
    "## Distance Function\n",
    "![alt text](dist.png \"Title\")"
   ]
  },
  {
   "cell_type": "code",
   "execution_count": 3,
   "metadata": {},
   "outputs": [],
   "source": [
    "import math\n",
    "def distance(x, y):\n",
    "    d = len(x)\n",
    "    sum = 0\n",
    "    for i in range(d):\n",
    "#         print(i)\n",
    "        sum += int(math.pow((x[i]-y[i]),2))\n",
    "    return sum"
   ]
  },
  {
   "cell_type": "markdown",
   "metadata": {},
   "source": [
    "## Cost Function\n",
    "![alt text](cost.png \"Title\")"
   ]
  },
  {
   "cell_type": "code",
   "execution_count": 4,
   "metadata": {},
   "outputs": [],
   "source": [
    "def cost(clusters, z):\n",
    "    cost = 0\n",
    "\n",
    "    \n",
    "    for i, cluster in enumerate(clusters):\n",
    "        if(len(cluster)!=0):\n",
    "            for j, x in enumerate(cluster):\n",
    "                cost += distance(x, z[i])\n",
    "        \n",
    "    return cost\n",
    "        "
   ]
  },
  {
   "cell_type": "code",
   "execution_count": 5,
   "metadata": {},
   "outputs": [
    {
     "data": {
      "text/plain": [
       "array([[-4,  0],\n",
       "       [ 0,  2],\n",
       "       [ 0,  3],\n",
       "       ...,\n",
       "       [-3,  1],\n",
       "       [ 7,  6],\n",
       "       [ 3,  4]])"
      ]
     },
     "execution_count": 5,
     "metadata": {},
     "output_type": "execute_result"
    }
   ],
   "source": [
    "x_int = X.astype(int)\n",
    "x_int"
   ]
  },
  {
   "cell_type": "markdown",
   "metadata": {},
   "source": [
    "## Mean of a Cluster"
   ]
  },
  {
   "cell_type": "code",
   "execution_count": 6,
   "metadata": {},
   "outputs": [],
   "source": [
    "def total_dist(cluster, z):\n",
    "    dist = 0\n",
    "    for i, xi in enumerate(cluster):\n",
    "        dist += distance(xi, z)\n",
    "    return dist"
   ]
  },
  {
   "cell_type": "code",
   "execution_count": 7,
   "metadata": {},
   "outputs": [],
   "source": [
    "def set_z(cluster):\n",
    "    min_dist = 100000\n",
    "    min_x = 0\n",
    "    for i, x in enumerate(cluster):\n",
    "#         print(\"checking point number\", i, \" point: \",x)\n",
    "        dist = total_dist(cluster, x)\n",
    "        if(dist<min_dist):\n",
    "            min_dist = dist\n",
    "            min_x = x\n",
    "    z = []\n",
    "    for point in min_x:\n",
    "        z.append(point)\n",
    "    \n",
    "    return z\n",
    "        "
   ]
  },
  {
   "cell_type": "markdown",
   "metadata": {},
   "source": [
    "## K Mediods Algorithm\n",
    "![alt text](km.png \"Title\")"
   ]
  },
  {
   "cell_type": "code",
   "execution_count": 8,
   "metadata": {},
   "outputs": [],
   "source": [
    "# x.shape = 210012 rows × 3 columns\n",
    "# z.shape = k rows x 3 columns\n",
    "def k_means(x, k, z):\n",
    "    clusters = [[] for i in range(k)]\n",
    "    \n",
    "    \n",
    "    for i, xi in enumerate(x):\n",
    "        min_distances = []\n",
    "        dist = 1000000\n",
    "        j_min = 0\n",
    "        for j, zj in enumerate(z):\n",
    "            if(dist>distance(xi, zj)):\n",
    "                dist=distance(xi, zj)\n",
    "                j_min = j\n",
    "        clusters[j_min].append(xi)\n",
    "\n",
    "    old_clusters = clusters.copy()\n",
    "    old_z = [[] for i in range(len(z))]\n",
    "    count =0\n",
    "    cost_total = []\n",
    "    while(old_z != z):\n",
    "        count+=1\n",
    "        print(\"iteration: \",count)\n",
    "        old_clusters = clusters.copy()\n",
    "        old_z = z.copy()\n",
    "        print(\"new z = \",z)\n",
    "        clusters = [[] for i in range(len(clusters))]\n",
    "        for i, xi in enumerate(x):\n",
    "            min_distances = []\n",
    "            dist = 1000000\n",
    "            j_min = 0\n",
    "            for j, zj in enumerate(z):\n",
    "                if(dist>distance(xi, zj)):\n",
    "                    dist=distance(xi, zj)\n",
    "                    j_min = j\n",
    "            clusters[j_min].append(xi)\n",
    "\n",
    "        \n",
    "        z_removed = []\n",
    "        for i, cluster in enumerate(clusters):\n",
    "            if (len(cluster)!=0):\n",
    "                z_removed.append(set_z(cluster))\n",
    "            \n",
    "        for cluster in clusters:\n",
    "            if(len(cluster)==0):\n",
    "                clusters.remove(cluster)\n",
    "        \n",
    "        z = z_removed.copy()\n",
    "        \n",
    "        cost_total.append(cost(clusters,z))\n",
    "#         print(\"old z = \", old_z)\n",
    "#         print(\"z at end of loop = \", z)\n",
    "\n",
    "    return clusters, z, cost_total\n",
    "            "
   ]
  },
  {
   "cell_type": "code",
   "execution_count": 9,
   "metadata": {
    "scrolled": false
   },
   "outputs": [
    {
     "name": "stdout",
     "output_type": "stream",
     "text": [
      "iteration:  1\n",
      "new z =  [[7, 6], [0, 2], [0, 3], [-3, 1]]\n",
      "iteration:  2\n",
      "new z =  [[7.789987054213856, 7.883396785309039], [0.9595049295038608, 2.07681451446142], [0.8881959936056498, 4.411124479508919], [-6.481343968696917, -2.62821758144489]]\n",
      "iteration:  3\n",
      "new z =  [[7.789987054213856, 7.883396785309039], [-0.430610957592203, 1.745367392606909], [0.8919178173295043, 4.589490389864836], [-6.659449507213229, -3.280384885868376]]\n",
      "iteration:  4\n",
      "new z =  [[7.789987054213856, 7.883396785309039], [-2.810199182119196, 0.8733582832462942], [1.095655042665506, 4.513489193270844], [-6.629113677831883, -4.1215426093685394]]\n",
      "iteration:  5\n",
      "new z =  [[7.789987054213856, 7.883396785309039], [-4.100028950480548, 0.13043710240981465], [1.116886441574794, 4.23611336327882], [-7.315900974734557, -5.736280987064237]]\n",
      "iteration:  6\n",
      "new z =  [[7.789987054213856, 7.883396785309039], [-4.100028950480548, 0.13043710240981465], [0.8633626363550546, 4.132160031304052], [-7.540578498101812, -5.906631491529283]]\n"
     ]
    }
   ],
   "source": [
    "zi = [ [ 7,  6],\n",
    "        [ 0,  2],\n",
    "        [ 0,  3], \n",
    "     [-3, 1]]\n",
    "c, z, cost_total = k_means(X, 4, zi)\n"
   ]
  },
  {
   "cell_type": "markdown",
   "metadata": {},
   "source": [
    "### Number of Clusters:"
   ]
  },
  {
   "cell_type": "code",
   "execution_count": 10,
   "metadata": {},
   "outputs": [
    {
     "data": {
      "text/plain": [
       "4"
      ]
     },
     "execution_count": 10,
     "metadata": {},
     "output_type": "execute_result"
    }
   ],
   "source": [
    "len(c)"
   ]
  },
  {
   "cell_type": "markdown",
   "metadata": {},
   "source": [
    "\n",
    "### Final centroids of each cluster:\n"
   ]
  },
  {
   "cell_type": "code",
   "execution_count": 11,
   "metadata": {},
   "outputs": [
    {
     "data": {
      "text/plain": [
       "[[7.789987054213856, 7.883396785309039],\n",
       " [-4.100028950480548, 0.13043710240981465],\n",
       " [0.8633626363550546, 4.132160031304052],\n",
       " [-7.540578498101812, -5.906631491529283]]"
      ]
     },
     "execution_count": 11,
     "metadata": {},
     "output_type": "execute_result"
    }
   ],
   "source": [
    "z"
   ]
  },
  {
   "cell_type": "markdown",
   "metadata": {},
   "source": [
    "### Number of pixels associated to each cluster:\n"
   ]
  },
  {
   "cell_type": "code",
   "execution_count": 12,
   "metadata": {},
   "outputs": [
    {
     "name": "stdout",
     "output_type": "stream",
     "text": [
      "Cluster  0  has  1250  pixels.\n",
      "Cluster  1  has  1250  pixels.\n",
      "Cluster  2  has  1249  pixels.\n",
      "Cluster  3  has  1251  pixels.\n"
     ]
    }
   ],
   "source": [
    "for i, cluster in enumerate(c):\n",
    "    print(\"Cluster \",i, \" has \", len(cluster), \" pixels.\")"
   ]
  },
  {
   "cell_type": "markdown",
   "metadata": {},
   "source": [
    "## Check Clusters on Graph"
   ]
  },
  {
   "cell_type": "code",
   "execution_count": 13,
   "metadata": {},
   "outputs": [
    {
     "ename": "NameError",
     "evalue": "name 'plt' is not defined",
     "output_type": "error",
     "traceback": [
      "\u001b[0;31m---------------------------------------------------------------------------\u001b[0m",
      "\u001b[0;31mNameError\u001b[0m                                 Traceback (most recent call last)",
      "\u001b[0;32m<ipython-input-13-76b9253f4099>\u001b[0m in \u001b[0;36m<module>\u001b[0;34m\u001b[0m\n\u001b[1;32m      5\u001b[0m \u001b[0;32mfor\u001b[0m \u001b[0mkey\u001b[0m\u001b[0;34m,\u001b[0m \u001b[0mcluster\u001b[0m \u001b[0;32min\u001b[0m \u001b[0menumerate\u001b[0m\u001b[0;34m(\u001b[0m\u001b[0mc\u001b[0m\u001b[0;34m)\u001b[0m\u001b[0;34m:\u001b[0m\u001b[0;34m\u001b[0m\u001b[0;34m\u001b[0m\u001b[0m\n\u001b[1;32m      6\u001b[0m     \u001b[0;32mfor\u001b[0m \u001b[0mx\u001b[0m \u001b[0;32min\u001b[0m \u001b[0mcluster\u001b[0m\u001b[0;34m:\u001b[0m\u001b[0;34m\u001b[0m\u001b[0;34m\u001b[0m\u001b[0m\n\u001b[0;32m----> 7\u001b[0;31m         \u001b[0mplt\u001b[0m\u001b[0;34m.\u001b[0m\u001b[0mplot\u001b[0m\u001b[0;34m(\u001b[0m\u001b[0mx\u001b[0m\u001b[0;34m[\u001b[0m\u001b[0;36m0\u001b[0m\u001b[0;34m]\u001b[0m\u001b[0;34m,\u001b[0m \u001b[0mx\u001b[0m\u001b[0;34m[\u001b[0m\u001b[0;36m1\u001b[0m\u001b[0;34m]\u001b[0m\u001b[0;34m,\u001b[0m \u001b[0mcolors\u001b[0m\u001b[0;34m[\u001b[0m\u001b[0mkey\u001b[0m\u001b[0;34m]\u001b[0m\u001b[0;34m)\u001b[0m\u001b[0;34m\u001b[0m\u001b[0;34m\u001b[0m\u001b[0m\n\u001b[0m\u001b[1;32m      8\u001b[0m \u001b[0;34m\u001b[0m\u001b[0m\n\u001b[1;32m      9\u001b[0m \u001b[0;32mfor\u001b[0m \u001b[0mpoint\u001b[0m \u001b[0;32min\u001b[0m \u001b[0mz\u001b[0m\u001b[0;34m:\u001b[0m\u001b[0;34m\u001b[0m\u001b[0;34m\u001b[0m\u001b[0m\n",
      "\u001b[0;31mNameError\u001b[0m: name 'plt' is not defined"
     ]
    }
   ],
   "source": [
    "pyplot.rcParams[\"figure.figsize\"] = (14,12)\n",
    "\n",
    "\n",
    "colors = {0: 'c.', 1: 'g.', 2: 'r.', 3: 'y.'}\n",
    "for key, cluster in enumerate(c):\n",
    "    for x in cluster:\n",
    "        plt.plot(x[0], x[1], colors[key])\n",
    "\n",
    "for point in z:\n",
    "    plt.plot(point[0], point[1], 'mo', label=\"Final Exemplars\")\n",
    "\n",
    "for point in zi:\n",
    "    plt.plot(point[0], point[1], 'bo', label=\"Initial Exemplars\")\n",
    "\n",
    "plt.xlabel(\"x\")\n",
    "plt.ylabel(\"y\")\n",
    "plt.legend()"
   ]
  },
  {
   "cell_type": "code",
   "execution_count": null,
   "metadata": {},
   "outputs": [],
   "source": []
  }
 ],
 "metadata": {
  "kernelspec": {
   "display_name": "Python 3",
   "language": "python",
   "name": "python3"
  },
  "language_info": {
   "codemirror_mode": {
    "name": "ipython",
    "version": 3
   },
   "file_extension": ".py",
   "mimetype": "text/x-python",
   "name": "python",
   "nbconvert_exporter": "python",
   "pygments_lexer": "ipython3",
   "version": "3.7.4"
  }
 },
 "nbformat": 4,
 "nbformat_minor": 2
}

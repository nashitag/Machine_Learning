{
 "cells": [
  {
   "cell_type": "code",
   "execution_count": 36,
   "metadata": {},
   "outputs": [],
   "source": [
    "import numpy as np\n",
    "import numpy.random as nr\n",
    "import matplotlib.pyplot as plt\n",
    "%matplotlib inline"
   ]
  },
  {
   "cell_type": "markdown",
   "metadata": {},
   "source": [
    "### Data Points\n",
    "Generate some random data points for the algorithm."
   ]
  },
  {
   "cell_type": "code",
   "execution_count": 37,
   "metadata": {},
   "outputs": [
    {
     "data": {
      "image/png": "[encoded data removed]",
      "text/plain": [
       "<Figure size 432x288 with 1 Axes>"
      ]
     },
     "metadata": {
      "needs_background": "light"
     },
     "output_type": "display_data"
    }
   ],
   "source": [
    "# Generate data points\n",
    "N = 200\n",
    "x = nr.rand(N, 2)\n",
    "\n",
    "# Generate line\n",
    "x_line = np.linspace(0, 1)\n",
    "m = nr.rand()\n",
    "\n",
    "f = lambda x : m*x\n",
    "\n",
    "\n",
    "plt.plot(x[:, 0], x[:, 1], 'bo')\n",
    "plt.plot(x_line, f(x_line), 'r')\n",
    "\n",
    "\n",
    "# Linearly separate the points by the line\n",
    "y = np.zeros([N,1]);\n",
    "\n",
    "for i in range(N):\n",
    "    if(f(x[i,0])>x[i,1]):\n",
    "        # Point is below line\n",
    "        y[i] = 1;\n",
    "        plt.plot(x[i,0],x[i,1],'go')\n",
    "    else:\n",
    "        # Point is above line\n",
    "        y[i] = -1;\n",
    "        \n",
    "        \n",
    "   "
   ]
  },
  {
   "cell_type": "code",
   "execution_count": 38,
   "metadata": {},
   "outputs": [
    {
     "data": {
      "text/plain": [
       "(200, 2)"
      ]
     },
     "execution_count": 38,
     "metadata": {},
     "output_type": "execute_result"
    }
   ],
   "source": [
    "x.shape"
   ]
  },
  {
   "cell_type": "markdown",
   "metadata": {},
   "source": [
    "### Classifier: Signum Function\n",
    "![alt text](signum_func.png \"Title\")"
   ]
  },
  {
   "cell_type": "code",
   "execution_count": 39,
   "metadata": {},
   "outputs": [],
   "source": [
    "def sign(w, x):\n",
    "    if ( np.dot(w[1:], x[0:]) + w[0] >= 0 ):\n",
    "        return 1\n",
    "    \n",
    "    if ( np.dot(w[1:], x[0:]) + w[0] < 0 ):\n",
    "        return -1"
   ]
  },
  {
   "cell_type": "markdown",
   "metadata": {},
   "source": [
    "### Loss Function: Hinge Loss\n",
    "![alt text](hinge_loss.png \"Title\")"
   ]
  },
  {
   "cell_type": "code",
   "execution_count": 40,
   "metadata": {},
   "outputs": [],
   "source": [
    "def loss(x, y, w):\n",
    "#     print(\"x = \", x)\n",
    "#     print(\"w = \", np.transpose(w))\n",
    "#     print(\"y = \", y)\n",
    "    return max( (1 - ((np.dot(w, x))*y)), 0)"
   ]
  },
  {
   "cell_type": "markdown",
   "metadata": {},
   "source": [
    "### Cost Function\n",
    "![alt text](cost_func.png \"Title\")"
   ]
  },
  {
   "cell_type": "code",
   "execution_count": 41,
   "metadata": {},
   "outputs": [],
   "source": [
    "def cost(X, Y, w):\n",
    "    n = len(X)\n",
    "    error = 0\n",
    "    for i, x in enumerate(X):\n",
    "        error+=loss(X[i], Y[i], w)\n",
    "    return error/n"
   ]
  },
  {
   "cell_type": "markdown",
   "metadata": {},
   "source": [
    "## Algorithm"
   ]
  },
  {
   "cell_type": "markdown",
   "metadata": {},
   "source": [
    "### Learning: Stochastic Gradient Descent\n",
    "![alt text](sgd.png \"Title\")"
   ]
  },
  {
   "cell_type": "code",
   "execution_count": 42,
   "metadata": {},
   "outputs": [],
   "source": [
    "import random\n",
    "\n",
    "def del_cost(x, y):\n",
    "    return y*x\n",
    "\n",
    "def stochastic_gradient_descent(X, Y, n, *eta):\n",
    "    \n",
    "    w = np.zeros(len(X[0]))\n",
    "    \n",
    "    \n",
    "    final_theta = w\n",
    "    \n",
    "    least_error = 100000\n",
    "    \n",
    "    k = -1\n",
    "    errors_w = []\n",
    "    \n",
    "    ys = []\n",
    "    \n",
    "    for t in range(n):\n",
    "        \n",
    "        index = random.randrange(X.shape[0])\n",
    "        \n",
    "        k = k+1\n",
    "        if not eta:\n",
    "            eta_used = 1/(1+k)\n",
    "        else:\n",
    "            eta_used = eta\n",
    "        \n",
    "        if(  Y[index]*np.dot(w, X[index]) <= 1):\n",
    "            w = w + (eta_used*del_cost(X[index], Y[index]))\n",
    "            \n",
    "        if(least_error>cost(X, Y, w)):\n",
    "            least_error = cost(X, Y, w)\n",
    "            final_theta = w\n",
    "        errors_w.append(cost(X, Y, w))\n",
    "        \n",
    "    plt.plot(errors_w)\n",
    "    plt.xlabel('iterations')\n",
    "    plt.ylabel('total error')\n",
    "    plt.title('Plot of Total Error with Iterations')\n",
    "    return final_theta, least_error, errors_w"
   ]
  },
  {
   "cell_type": "markdown",
   "metadata": {},
   "source": [
    "## Prediction"
   ]
  },
  {
   "cell_type": "code",
   "execution_count": 43,
   "metadata": {},
   "outputs": [
    {
     "data": {
      "image/png": "[encoded data removed]",
      "text/plain": [
       "<Figure size 432x288 with 1 Axes>"
      ]
     },
     "metadata": {
      "needs_background": "light"
     },
     "output_type": "display_data"
    }
   ],
   "source": [
    "w, minimum_error, error_list = stochastic_gradient_descent(x, y, 100, 0.1)"
   ]
  },
  {
   "cell_type": "code",
   "execution_count": 44,
   "metadata": {},
   "outputs": [
    {
     "data": {
      "text/plain": [
       "array([0.3180983])"
      ]
     },
     "execution_count": 44,
     "metadata": {},
     "output_type": "execute_result"
    }
   ],
   "source": [
    "minimum_error"
   ]
  },
  {
   "cell_type": "code",
   "execution_count": 45,
   "metadata": {
    "scrolled": true
   },
   "outputs": [
    {
     "data": {
      "text/plain": [
       "array([-0.5517644 , -1.75618954])"
      ]
     },
     "execution_count": 45,
     "metadata": {},
     "output_type": "execute_result"
    }
   ],
   "source": [
    "w"
   ]
  },
  {
   "cell_type": "markdown",
   "metadata": {},
   "source": [
    "## Check Prediction on Graph"
   ]
  },
  {
   "cell_type": "code",
   "execution_count": 46,
   "metadata": {
    "scrolled": false
   },
   "outputs": [
    {
     "data": {
      "text/plain": [
       "<matplotlib.legend.Legend at 0x1142e1850>"
      ]
     },
     "execution_count": 46,
     "metadata": {},
     "output_type": "execute_result"
    },
    {
     "data": {
      "image/png": "[encoded data removed]",
      "text/plain": [
       "<Figure size 720x576 with 1 Axes>"
      ]
     },
     "metadata": {
      "needs_background": "light"
     },
     "output_type": "display_data"
    }
   ],
   "source": [
    "plt.rcParams[\"figure.figsize\"] = (10,8)\n",
    "# plot points on graph from given data\n",
    "\n",
    "for i in range(N):\n",
    "    if(y[i] == 1):\n",
    "        plt.plot(x[i,0],x[i,1],'go')\n",
    "    else:\n",
    "        # Point is above line\n",
    "        plt.plot(x[i,0],x[i,1], 'bo')\n",
    "\n",
    "# plot w returned from Perceptron\n",
    "\n",
    "# Using weights w to compute a,b for a line y=a*x+b\n",
    "\n",
    "mnew = w[0]/w[1]\n",
    "y_func = lambda x: mnew * x \n",
    "\n",
    "x_lin = np.linspace(0, 1)\n",
    "plt.plot(x_lin, y_func(x_lin), 'b', label='Line from SGD implementation.')\n",
    "plt.plot(x_lin, f(x_lin), 'r', label='Original line.')\n",
    "\n",
    "\n",
    "\n",
    "plt.title('Comparison between the linear separator and the SGD approximation.')\n",
    "\n",
    "plt.legend()"
   ]
  },
  {
   "cell_type": "code",
   "execution_count": null,
   "metadata": {},
   "outputs": [],
   "source": []
  }
 ],
 "metadata": {
  "kernelspec": {
   "display_name": "Python 3",
   "language": "python",
   "name": "python3"
  },
  "language_info": {
   "codemirror_mode": {
    "name": "ipython",
    "version": 3
   },
   "file_extension": ".py",
   "mimetype": "text/x-python",
   "name": "python",
   "nbconvert_exporter": "python",
   "pygments_lexer": "ipython3",
   "version": "3.7.4"
  }
 },
 "nbformat": 4,
 "nbformat_minor": 2
}

{
 "cells": [
  {
   "cell_type": "markdown",
   "metadata": {},
   "source": [
    "# K-Means"
   ]
  },
  {
   "cell_type": "markdown",
   "metadata": {},
   "source": [
    "## Get Data"
   ]
  },
  {
   "cell_type": "code",
   "execution_count": 5,
   "metadata": {},
   "outputs": [
    {
     "data": {
      "text/html": [
       "<div>\n",
       "<style scoped>\n",
       "    .dataframe tbody tr th:only-of-type {\n",
       "        vertical-align: middle;\n",
       "    }\n",
       "\n",
       "    .dataframe tbody tr th {\n",
       "        vertical-align: top;\n",
       "    }\n",
       "\n",
       "    .dataframe thead th {\n",
       "        text-align: right;\n",
       "    }\n",
       "</style>\n",
       "<table border=\"1\" class=\"dataframe\">\n",
       "  <thead>\n",
       "    <tr style=\"text-align: right;\">\n",
       "      <th></th>\n",
       "      <th>R</th>\n",
       "      <th>G</th>\n",
       "      <th>B</th>\n",
       "    </tr>\n",
       "  </thead>\n",
       "  <tbody>\n",
       "    <tr>\n",
       "      <td>0</td>\n",
       "      <td>129</td>\n",
       "      <td>108</td>\n",
       "      <td>61</td>\n",
       "    </tr>\n",
       "    <tr>\n",
       "      <td>1</td>\n",
       "      <td>117</td>\n",
       "      <td>96</td>\n",
       "      <td>51</td>\n",
       "    </tr>\n",
       "    <tr>\n",
       "      <td>2</td>\n",
       "      <td>102</td>\n",
       "      <td>77</td>\n",
       "      <td>36</td>\n",
       "    </tr>\n",
       "    <tr>\n",
       "      <td>3</td>\n",
       "      <td>94</td>\n",
       "      <td>64</td>\n",
       "      <td>26</td>\n",
       "    </tr>\n",
       "    <tr>\n",
       "      <td>4</td>\n",
       "      <td>97</td>\n",
       "      <td>59</td>\n",
       "      <td>22</td>\n",
       "    </tr>\n",
       "    <tr>\n",
       "      <td>...</td>\n",
       "      <td>...</td>\n",
       "      <td>...</td>\n",
       "      <td>...</td>\n",
       "    </tr>\n",
       "    <tr>\n",
       "      <td>210007</td>\n",
       "      <td>91</td>\n",
       "      <td>38</td>\n",
       "      <td>4</td>\n",
       "    </tr>\n",
       "    <tr>\n",
       "      <td>210008</td>\n",
       "      <td>88</td>\n",
       "      <td>39</td>\n",
       "      <td>6</td>\n",
       "    </tr>\n",
       "    <tr>\n",
       "      <td>210009</td>\n",
       "      <td>81</td>\n",
       "      <td>36</td>\n",
       "      <td>7</td>\n",
       "    </tr>\n",
       "    <tr>\n",
       "      <td>210010</td>\n",
       "      <td>71</td>\n",
       "      <td>31</td>\n",
       "      <td>6</td>\n",
       "    </tr>\n",
       "    <tr>\n",
       "      <td>210011</td>\n",
       "      <td>66</td>\n",
       "      <td>31</td>\n",
       "      <td>11</td>\n",
       "    </tr>\n",
       "  </tbody>\n",
       "</table>\n",
       "<p>210012 rows × 3 columns</p>\n",
       "</div>"
      ],
      "text/plain": [
       "          R    G   B\n",
       "0       129  108  61\n",
       "1       117   96  51\n",
       "2       102   77  36\n",
       "3        94   64  26\n",
       "4        97   59  22\n",
       "...     ...  ...  ..\n",
       "210007   91   38   4\n",
       "210008   88   39   6\n",
       "210009   81   36   7\n",
       "210010   71   31   6\n",
       "210011   66   31  11\n",
       "\n",
       "[210012 rows x 3 columns]"
      ]
     },
     "execution_count": 5,
     "metadata": {},
     "output_type": "execute_result"
    }
   ],
   "source": [
    "import pandas as pd\n",
    "\n",
    "inputs = pd.read_csv(r'/Users/nashitaabd/Documents/SUTD/T6/MachineLearning/HW2/1/hw2-image.txt', delimiter=' ', names=['R', 'G', 'B'])\n",
    "\n",
    "inputs"
   ]
  },
  {
   "cell_type": "code",
   "execution_count": 6,
   "metadata": {},
   "outputs": [
    {
     "name": "stderr",
     "output_type": "stream",
     "text": [
      "/opt/anaconda3/lib/python3.7/site-packages/ipykernel_launcher.py:1: FutureWarning: Method .as_matrix will be removed in a future version. Use .values instead.\n",
      "  \"\"\"Entry point for launching an IPython kernel.\n"
     ]
    },
    {
     "data": {
      "text/plain": [
       "array([[129, 108,  61],\n",
       "       [117,  96,  51],\n",
       "       [102,  77,  36],\n",
       "       ...,\n",
       "       [ 81,  36,   7],\n",
       "       [ 71,  31,   6],\n",
       "       [ 66,  31,  11]])"
      ]
     },
     "execution_count": 6,
     "metadata": {},
     "output_type": "execute_result"
    }
   ],
   "source": [
    "x_input = inputs.as_matrix(columns=inputs.columns[0:])\n",
    "x_input"
   ]
  },
  {
   "cell_type": "markdown",
   "metadata": {},
   "source": [
    "## Distance Function\n",
    "![alt text](dist.png \"Title\")"
   ]
  },
  {
   "cell_type": "code",
   "execution_count": 7,
   "metadata": {},
   "outputs": [],
   "source": [
    "import math\n",
    "def distance(x, y):\n",
    "    d = len(x)\n",
    "    sum = 0\n",
    "    for i in range(d):\n",
    "#         print(i)\n",
    "        sum += int(math.pow((x[i]-y[i]),2))\n",
    "    return sum"
   ]
  },
  {
   "cell_type": "markdown",
   "metadata": {},
   "source": [
    "## Cost Function\n",
    "![alt text](cost.png \"Title\")"
   ]
  },
  {
   "cell_type": "code",
   "execution_count": 8,
   "metadata": {},
   "outputs": [],
   "source": [
    "def cost(clusters, z):\n",
    "    cost = 0\n",
    "\n",
    "    \n",
    "    for i, cluster in enumerate(clusters):\n",
    "        if(len(cluster)!=0):\n",
    "            for j, x in enumerate(cluster):\n",
    "                cost += distance(x, z[i])\n",
    "        \n",
    "    return cost\n",
    "        "
   ]
  },
  {
   "cell_type": "markdown",
   "metadata": {},
   "source": [
    "## Mean of a Cluster"
   ]
  },
  {
   "cell_type": "code",
   "execution_count": 9,
   "metadata": {},
   "outputs": [],
   "source": [
    "def mean(cluster):\n",
    "    n = len(cluster)\n",
    "    result_z = []\n",
    "    l = len(cluster[0])\n",
    "    for i in range(l):\n",
    "        total = 0\n",
    "        for j, x in enumerate(cluster):\n",
    "            total += x[i]\n",
    "        result_z.append(int(total/n))\n",
    "    return result_z\n",
    "        "
   ]
  },
  {
   "cell_type": "code",
   "execution_count": 10,
   "metadata": {},
   "outputs": [],
   "source": [
    "x_int = x_input.astype(int)"
   ]
  },
  {
   "cell_type": "markdown",
   "metadata": {},
   "source": [
    "## K Means Algorithm\n",
    "![alt text](km.png \"Title\")"
   ]
  },
  {
   "cell_type": "code",
   "execution_count": 11,
   "metadata": {},
   "outputs": [],
   "source": [
    "# x.shape = 210012 rows × 3 columns\n",
    "# z.shape = k rows x 3 columns\n",
    "def k_means(x, k, z):\n",
    "    clusters = [[] for i in range(k)]\n",
    "    \n",
    "    \n",
    "    for i, xi in enumerate(x):\n",
    "        min_distances = []\n",
    "        dist = 1000000\n",
    "        j_min = 0\n",
    "        for j, zj in enumerate(z):\n",
    "            if(dist>distance(xi, zj)):\n",
    "                dist=distance(xi, zj)\n",
    "                j_min = j\n",
    "        clusters[j_min].append(xi)\n",
    "\n",
    "    old_clusters = clusters.copy()\n",
    "    old_z = [0,0,0]\n",
    "    count =0\n",
    "    \n",
    "    cost_total = []\n",
    "    while(old_z != z):\n",
    "        count+=1\n",
    "        print(\"iteration: \",count)\n",
    "        old_clusters = clusters.copy()\n",
    "        old_z = z.copy()\n",
    "        print(\"new z = \",z)\n",
    "        clusters = [[] for i in range(len(clusters))]\n",
    "        for i, xi in enumerate(x):\n",
    "            min_distances = []\n",
    "            dist = 1000000\n",
    "            j_min = 0\n",
    "            for j, zj in enumerate(z):\n",
    "                if(dist>distance(xi, zj)):\n",
    "                    dist=distance(xi, zj)\n",
    "                    j_min = j\n",
    "            clusters[j_min].append(xi)\n",
    "\n",
    "        \n",
    "        z_removed = []\n",
    "        for i, cluster in enumerate(clusters):\n",
    "            if (len(cluster)!=0):\n",
    "                z_removed.append(mean(cluster))\n",
    "            \n",
    "        for cluster in clusters:\n",
    "            if(len(cluster)==0):\n",
    "                clusters.remove(cluster)\n",
    "        \n",
    "        z = z_removed.copy()\n",
    "        \n",
    "        cost_total.append(cost(clusters,z))\n",
    "\n",
    "    return clusters, z, cost_total\n",
    "            "
   ]
  },
  {
   "cell_type": "code",
   "execution_count": 12,
   "metadata": {},
   "outputs": [
    {
     "name": "stdout",
     "output_type": "stream",
     "text": [
      "iteration:  1\n",
      "new z =  [[255, 255, 255], [255, 0, 0], [128, 0, 0], [0, 255, 0], [0, 128, 0], [0, 0, 255], [0, 0, 128], [0, 0, 0]]\n",
      "iteration:  2\n",
      "new z =  [[226, 208, 194], [203, 135, 77], [127, 64, 21], [92, 94, 89], [56, 56, 79], [29, 23, 22]]\n",
      "iteration:  3\n",
      "new z =  [[235, 231, 225], [189, 125, 74], [129, 61, 14], [114, 102, 92], [55, 49, 57], [34, 24, 20]]\n",
      "iteration:  4\n",
      "new z =  [[239, 236, 230], [186, 121, 70], [129, 59, 12], [121, 103, 91], [62, 45, 43], [34, 23, 19]]\n",
      "iteration:  5\n",
      "new z =  [[239, 236, 230], [185, 120, 68], [131, 59, 11], [124, 104, 90], [71, 41, 26], [31, 23, 20]]\n",
      "iteration:  6\n",
      "new z =  [[239, 236, 230], [185, 119, 68], [135, 61, 11], [124, 104, 90], [76, 36, 14], [26, 22, 22]]\n",
      "iteration:  7\n",
      "new z =  [[239, 236, 230], [185, 120, 68], [137, 63, 12], [122, 103, 90], [77, 36, 12], [25, 23, 23]]\n",
      "iteration:  8\n",
      "new z =  [[239, 236, 230], [185, 120, 69], [138, 63, 12], [120, 102, 90], [77, 36, 12], [25, 23, 23]]\n",
      "iteration:  9\n",
      "new z =  [[239, 236, 230], [185, 121, 69], [138, 63, 12], [119, 102, 89], [78, 36, 12], [25, 23, 23]]\n",
      "iteration:  10\n",
      "new z =  [[239, 236, 230], [185, 121, 70], [138, 63, 12], [119, 101, 88], [78, 36, 12], [25, 23, 23]]\n",
      "iteration:  11\n",
      "new z =  [[239, 236, 230], [186, 121, 70], [138, 63, 12], [119, 100, 87], [78, 36, 12], [25, 23, 23]]\n",
      "iteration:  12\n",
      "new z =  [[239, 236, 230], [186, 121, 70], [138, 63, 12], [119, 99, 86], [78, 36, 12], [25, 23, 23]]\n",
      "iteration:  13\n",
      "new z =  [[239, 236, 230], [186, 121, 70], [138, 63, 12], [119, 99, 84], [78, 36, 12], [25, 23, 23]]\n",
      "iteration:  14\n",
      "new z =  [[239, 236, 230], [186, 121, 71], [138, 63, 12], [120, 98, 82], [78, 36, 12], [25, 23, 23]]\n",
      "iteration:  15\n",
      "new z =  [[239, 236, 230], [186, 122, 71], [138, 63, 12], [121, 96, 80], [78, 36, 11], [25, 23, 23]]\n",
      "iteration:  16\n",
      "new z =  [[239, 236, 231], [186, 122, 72], [138, 63, 12], [123, 95, 76], [78, 36, 11], [25, 23, 23]]\n",
      "iteration:  17\n",
      "new z =  [[239, 236, 231], [187, 123, 72], [138, 63, 11], [127, 93, 71], [78, 36, 11], [25, 23, 23]]\n",
      "iteration:  18\n",
      "new z =  [[239, 236, 231], [188, 125, 74], [138, 62, 10], [134, 92, 64], [78, 36, 11], [25, 23, 23]]\n",
      "iteration:  19\n",
      "new z =  [[239, 236, 231], [190, 128, 77], [138, 62, 10], [140, 91, 59], [78, 36, 12], [25, 23, 23]]\n",
      "iteration:  20\n",
      "new z =  [[239, 237, 231], [191, 130, 80], [137, 62, 9], [144, 92, 55], [78, 36, 12], [25, 23, 23]]\n",
      "iteration:  21\n",
      "new z =  [[240, 237, 232], [192, 132, 82], [137, 61, 9], [148, 92, 53], [78, 36, 12], [25, 23, 23]]\n",
      "iteration:  22\n",
      "new z =  [[240, 237, 232], [192, 133, 84], [136, 60, 9], [150, 93, 51], [78, 36, 12], [25, 23, 23]]\n",
      "iteration:  23\n",
      "new z =  [[240, 237, 232], [192, 133, 85], [135, 60, 9], [152, 94, 50], [77, 36, 12], [25, 23, 23]]\n",
      "iteration:  24\n",
      "new z =  [[240, 237, 232], [192, 134, 86], [135, 60, 9], [153, 94, 50], [77, 36, 12], [25, 23, 23]]\n",
      "iteration:  25\n",
      "new z =  [[240, 238, 233], [193, 134, 87], [135, 60, 9], [154, 94, 50], [77, 36, 12], [25, 23, 23]]\n",
      "iteration:  26\n",
      "new z =  [[240, 238, 233], [193, 134, 88], [135, 60, 9], [154, 95, 50], [77, 36, 12], [25, 23, 23]]\n"
     ]
    }
   ],
   "source": [
    "z = [ [255, 255, 255], \n",
    "     [255, 0, 0], \n",
    "     [128, 0, 0], \n",
    "     [0, 255, 0], \n",
    "     [0, 128, 0], \n",
    "     [0, 0, 255], \n",
    "     [0, 0,128], \n",
    "     [0,0,0]]\n",
    "c, z, cost_total = k_means(x_int, 8, z)\n"
   ]
  },
  {
   "cell_type": "markdown",
   "metadata": {},
   "source": [
    "### Number of Clusters:"
   ]
  },
  {
   "cell_type": "code",
   "execution_count": 19,
   "metadata": {},
   "outputs": [
    {
     "data": {
      "text/plain": [
       "6"
      ]
     },
     "execution_count": 19,
     "metadata": {},
     "output_type": "execute_result"
    }
   ],
   "source": [
    "len(c)"
   ]
  },
  {
   "cell_type": "markdown",
   "metadata": {},
   "source": [
    "\n",
    "### Final centroids of each cluster:\n"
   ]
  },
  {
   "cell_type": "code",
   "execution_count": 20,
   "metadata": {},
   "outputs": [
    {
     "data": {
      "text/plain": [
       "[[240, 238, 233],\n",
       " [193, 134, 88],\n",
       " [135, 60, 9],\n",
       " [154, 95, 50],\n",
       " [77, 36, 12],\n",
       " [25, 23, 23]]"
      ]
     },
     "execution_count": 20,
     "metadata": {},
     "output_type": "execute_result"
    }
   ],
   "source": [
    "z"
   ]
  },
  {
   "cell_type": "markdown",
   "metadata": {},
   "source": [
    "### Number of pixels associated to each cluster:\n"
   ]
  },
  {
   "cell_type": "code",
   "execution_count": 21,
   "metadata": {},
   "outputs": [
    {
     "name": "stdout",
     "output_type": "stream",
     "text": [
      "Cluster  0  has  4960  pixels.\n",
      "Cluster  1  has  16412  pixels.\n",
      "Cluster  2  has  52950  pixels.\n",
      "Cluster  3  has  21777  pixels.\n",
      "Cluster  4  has  40217  pixels.\n",
      "Cluster  5  has  73696  pixels.\n"
     ]
    }
   ],
   "source": [
    "for i, cluster in enumerate(c):\n",
    "    print(\"Cluster \",i, \" has \", len(cluster), \" pixels.\")"
   ]
  },
  {
   "cell_type": "markdown",
   "metadata": {},
   "source": [
    "### Squared Euclidean distance from each pixel to the nearest centroid after every iteration of the algorithm:"
   ]
  },
  {
   "cell_type": "code",
   "execution_count": 22,
   "metadata": {},
   "outputs": [
    {
     "data": {
      "image/png": "[encoded data removed]",
      "text/plain": [
       "<Figure size 432x288 with 1 Axes>"
      ]
     },
     "metadata": {
      "needs_background": "light"
     },
     "output_type": "display_data"
    }
   ],
   "source": [
    "import matplotlib.pyplot as plt\n",
    "\n",
    "import numpy as np\n",
    "\n",
    "x = list(range(1, 27)) # 100 linearly spaced numbers\n",
    "plt.plot(x, cost_total)\n",
    "plt.show()"
   ]
  },
  {
   "cell_type": "markdown",
   "metadata": {},
   "source": [
    "### Visualize result by replacing each pixel with the centroid to which it is closest, and displaying the resulting image.\n"
   ]
  },
  {
   "cell_type": "code",
   "execution_count": 27,
   "metadata": {},
   "outputs": [
    {
     "name": "stdout",
     "output_type": "stream",
     "text": [
      "[[[129 108  61]\n",
      "  [117  96  51]\n",
      "  [102  77  36]\n",
      "  ...\n",
      "  [ 43  24   9]\n",
      "  [ 42  23   8]\n",
      "  [ 41  22   7]]\n",
      "\n",
      " [[129 108  61]\n",
      "  [117  96  51]\n",
      "  [102  77  36]\n",
      "  ...\n",
      "  [ 43  24   9]\n",
      "  [ 42  23   8]\n",
      "  [ 41  22   7]]\n",
      "\n",
      " [[128 107  60]\n",
      "  [117  96  51]\n",
      "  [103  78  37]\n",
      "  ...\n",
      "  [ 43  24   9]\n",
      "  [ 41  23   9]\n",
      "  [ 40  22   8]]\n",
      "\n",
      " ...\n",
      "\n",
      " [[155  75  14]\n",
      "  [157  77  14]\n",
      "  [156  79  11]\n",
      "  ...\n",
      "  [ 81  36   7]\n",
      "  [ 71  31   6]\n",
      "  [ 66  31  11]]\n",
      "\n",
      " [[155  75  14]\n",
      "  [157  77  14]\n",
      "  [156  79  11]\n",
      "  ...\n",
      "  [ 81  36   7]\n",
      "  [ 71  31   6]\n",
      "  [ 66  31  11]]\n",
      "\n",
      " [[155  75  14]\n",
      "  [156  76  13]\n",
      "  [156  79  11]\n",
      "  ...\n",
      "  [ 81  36   7]\n",
      "  [ 71  31   6]\n",
      "  [ 66  31  11]]]\n"
     ]
    },
    {
     "data": {
      "image/png": "[encoded data removed]",
      "text/plain": [
       "<Figure size 432x288 with 1 Axes>"
      ]
     },
     "metadata": {
      "needs_background": "light"
     },
     "output_type": "display_data"
    }
   ],
   "source": [
    "import matplotlib.pyplot as plt\n",
    "import matplotlib.image as mpimg\n",
    "import numpy as np\n",
    "\n",
    "directory = '/Users/nashitaabd/Documents/SUTD/T6/MachineLearning/HW2/1/hw2-image.txt'\n",
    "dataset = np.loadtxt(directory)\n",
    "\n",
    "newdata = np.array(np.split(dataset,516))\n",
    "newdata = newdata.astype('uint8')\n",
    "print(newdata)\n",
    "\n",
    "\n",
    "imgplot = plt.imshow(newdata)\n",
    "plt.show()"
   ]
  },
  {
   "cell_type": "code",
   "execution_count": 38,
   "metadata": {},
   "outputs": [],
   "source": [
    "from numpy import ndarray\n",
    "new_array = [ [ None for y in range( len(newdata[i]) ) ] for x in range( len(newdata) ) ]\n",
    "\n",
    "for i in range(len(newdata)):\n",
    "    for j in range(len(newdata[i])):\n",
    "        \n",
    "        dist = 100000\n",
    "        j_min = 0\n",
    "        for k, zj in enumerate(z):\n",
    "            if(dist>distance(newdata[i][j], zj)):\n",
    "                dist=distance(newdata[i][j], zj)\n",
    "                j_min = k\n",
    "            new_array[i][j] = z[j_min]"
   ]
  },
  {
   "cell_type": "code",
   "execution_count": 39,
   "metadata": {},
   "outputs": [
    {
     "data": {
      "image/png": "[encoded data removed]",
      "text/plain": [
       "<Figure size 432x288 with 1 Axes>"
      ]
     },
     "metadata": {
      "needs_background": "light"
     },
     "output_type": "display_data"
    }
   ],
   "source": [
    "arr = np.asarray(new_array).astype('uint8') \n",
    "plt.imshow(arr)\n",
    "plt.show()"
   ]
  }
 ],
 "metadata": {
  "kernelspec": {
   "display_name": "Python 3",
   "language": "python",
   "name": "python3"
  },
  "language_info": {
   "codemirror_mode": {
    "name": "ipython",
    "version": 3
   },
   "file_extension": ".py",
   "mimetype": "text/x-python",
   "name": "python",
   "nbconvert_exporter": "python",
   "pygments_lexer": "ipython3",
   "version": "3.7.4"
  }
 },
 "nbformat": 4,
 "nbformat_minor": 2
}
